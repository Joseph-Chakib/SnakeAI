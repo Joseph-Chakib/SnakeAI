{
 "cells": [
  {
   "cell_type": "code",
   "execution_count": 5,
   "metadata": {},
   "outputs": [],
   "source": [
    "import pygame\n",
    "pygame.init()\n",
    "screen = pygame.display.set_mode((1000, 1000))"
   ]
  },
  {
   "cell_type": "code",
   "execution_count": 2,
   "metadata": {},
   "outputs": [],
   "source": [
    "class Grid:\n",
    "\n",
    "    def __init__(self, x, y, cordinates=[], SIZE=20, color=(255, 255, 255)) -> None:\n",
    "        self.rect = pygame.Rect(x, y, SIZE, SIZE)\n",
    "        self.color = color\n",
    "        self.size = SIZE\n",
    "        self.cordinates = cordinates\n",
    "        return None\n",
    "\n",
    "    def draw(self, screen) -> None:\n",
    "        for i in range(20):\n",
    "            self.rect.y = 150\n",
    "            self.rect.x += self.size\n",
    "            for j in range(20):\n",
    "                self.rect.y += self.size\n",
    "                pygame.draw.rect(screen, self.color, self.rect, 1)\n",
    "                self.cordinates.append([self.rect.x, self.rect.y])\n",
    "                # print(f\"Block Position: ({self.rect.x}, {self.rect.y})\")\n",
    "        # print(f\"Length is {len(self.cordinates)} \\n\")\n",
    "        # print(self.cordinates)\n",
    "        # print('\\n')\n",
    "        return None\n",
    "\n",
    "    def refresh(self, x, y) -> None:\n",
    "        self.cordinates = []\n",
    "        self.rect.x = x\n",
    "        self.rect.y = y\n",
    "        return None\n",
    "        \n",
    "    def cordinates(self) -> list:\n",
    "        return self.cordinates\n"
   ]
  },
  {
   "cell_type": "code",
   "execution_count": null,
   "metadata": {},
   "outputs": [],
   "source": [
    "class Snake:\n",
    "    \n",
    "    def __init__(self, cordinates, SIZE=20, color=(255, 0, 0)) -> None:\n",
    "        self.cordinates = cordinates\n",
    "        self.rect = pygame.Rect(cordinates[200][0], cordinates[200][1], SIZE, SIZE)  # Define the player as a rectangle\n",
    "        self.color = color  # Set the color of the player\n",
    "        #self.speed = pygame.Vector2(5, 0)  # Set the speed of the player\n",
    "        self.direction_state = \"R\"\n",
    "\n",
    "    def move(self, keys):\n",
    "        if keys[pygame.K_LEFT]:\n",
    "            self.rect.x -= self.speed  # Move left\n",
    "        if keys[pygame.K_RIGHT]:\n",
    "            self.rect.x += self.speed  # Move right\n",
    "        if keys[pygame.K_UP]:\n",
    "            self.rect.y -= self.speed  # Move up\n",
    "        if keys[pygame.K_DOWN]:\n",
    "            self.rect.y += self.speed  # Move down\n",
    "\n",
    "    def draw(self, screen):\n",
    "        pygame.draw.rect(screen, self.color, self.rect)  # Draw the player on the screen\n",
    "\n"
   ]
  },
  {
   "cell_type": "code",
   "execution_count": null,
   "metadata": {},
   "outputs": [
    {
     "ename": "Error",
     "evalue": "Session cannot generate requests",
     "output_type": "error",
     "traceback": [
      "Error: Session cannot generate requests",
      "at w.executeCodeCell (/Users/josephchakib/.vscode/extensions/ms-toolsai.jupyter-2021.6.999662501/out/client/extension.js:90:328422)",
      "at w.execute (/Users/josephchakib/.vscode/extensions/ms-toolsai.jupyter-2021.6.999662501/out/client/extension.js:90:327811)",
      "at w.start (/Users/josephchakib/.vscode/extensions/ms-toolsai.jupyter-2021.6.999662501/out/client/extension.js:90:323627)",
      "at runMicrotasks (<anonymous>)",
      "at processTicksAndRejections (internal/process/task_queues.js:93:5)",
      "at t.CellExecutionQueue.executeQueuedCells (/Users/josephchakib/.vscode/extensions/ms-toolsai.jupyter-2021.6.999662501/out/client/extension.js:90:338053)",
      "at t.CellExecutionQueue.start (/Users/josephchakib/.vscode/extensions/ms-toolsai.jupyter-2021.6.999662501/out/client/extension.js:90:337593)"
     ]
    }
   ],
   "source": [
    "vals = []\n",
    "for i in range(20):\n",
    "   for j in range(20):\n",
    "           vals.append([i, j])\n",
    "\n",
    "snake = Snake(vals)"
   ]
  }
 ],
 "metadata": {
  "interpreter": {
   "hash": "4ac9a8d6eedae3c2140e6319874735c6916f712fd6943b223b8d17dc84c73300"
  },
  "kernelspec": {
   "display_name": "Python 3.9.19 64-bit ('snake_env': conda)",
   "name": "python3"
  },
  "language_info": {
   "codemirror_mode": {
    "name": "ipython",
    "version": 3
   },
   "file_extension": ".py",
   "mimetype": "text/x-python",
   "name": "python",
   "nbconvert_exporter": "python",
   "pygments_lexer": "ipython3",
   "version": "3.9.19"
  },
  "orig_nbformat": 4
 },
 "nbformat": 4,
 "nbformat_minor": 2
}